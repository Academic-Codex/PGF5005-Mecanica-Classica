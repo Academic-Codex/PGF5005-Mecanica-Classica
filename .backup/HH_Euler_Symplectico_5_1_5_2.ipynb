{
 "cells": [
  {
   "cell_type": "markdown",
   "id": "68aec8c3",
   "metadata": {},
   "source": [
    "# PGF5005 — Exercício 5 · Hénon–Heiles — Itens **5.1** e **5.2**  \n",
    "**Método de Euler simplético** + **Algoritmo de Hénon** (seção de Poincaré)\n",
    "\n",
    "Hamiltoniana de Hénon–Heiles (adimensional), conforme o enunciado:  \n",
    "$$\n",
    "H(\\mathbf{q},\\mathbf{p})\n",
    "= \\frac{1}{2}\\,(p_1^2+p_2^2+q_1^2+q_2^2) + q_1^2 q_2 - \\frac{1}{3},q_2^3.\n",
    "$$\n",
    "\n",
    "Ela é separável na forma $H(\\mathbf{q},\\mathbf{p})=K(\\mathbf{p})+U(\\mathbf{q})$, com  \n",
    "$$\n",
    "K(\\mathbf{p})=\\tfrac{1}{2}(p_1^2+p_2^2),\\qquad\n",
    "U(\\mathbf{q})=\\tfrac{1}{2}(q_1^2+q_2^2)+q_1^2 q_2-\\tfrac{1}{3}q_2^3.\n",
    "$$\n",
    "\n",
    "## 5.1 — Atualizações do **Euler simplético** (Euler–Cromer)\n",
    "\n",
    "Para Hamiltonianas separáveis, as equações do Euler simplético em passo $\\Delta t$ são:\n",
    "$$\n",
    "\\boxed{\n",
    "\\begin{aligned}\n",
    "\\mathbf{q}^{\\,n+1} &= \\mathbf{q}^{\\,n} + \\Delta t\\,\\nabla_{\\mathbf{p}}K(\\mathbf{p}^{\\,n}),\\\\\n",
    "\\mathbf{p}^{\\,n+1} &= \\mathbf{p}^{\\,n} - \\Delta t\\,\\nabla_{\\mathbf{q}}U(\\mathbf{q}^{\\,n+1}).\n",
    "\\end{aligned}}\n",
    "$$\n",
    "\n",
    "No caso HH: $\\nabla_{\\mathbf{p}}K=(p_1,p_2)$ e  \n",
    "$\\nabla_{\\mathbf{q}}U=\\big(q_1+2q_1 q_2,\\; q_2+q_1^2-q_2^2\\big)$.  \n",
    "Logo,\n",
    "$$\n",
    "\\boxed{\n",
    "\\begin{aligned}\n",
    "q_1^{n+1} &= q_1^{n} + \\Delta t\\,p_1^{n},\\\\\n",
    "q_2^{n+1} &= q_2^{n} + \\Delta t\\,p_2^{n},\\\\[4pt]\n",
    "p_1^{n+1} &= p_1^{n} - \\Delta t\\,(q_1^{n+1} + 2 q_1^{n+1} q_2^{n+1}),\\\\\n",
    "p_2^{n+1} &= p_2^{n} - \\Delta t\\,(q_2^{n+1} + (q_1^{n+1})^2 - (q_2^{n+1})^2).\n",
    "\\end{aligned}}\n",
    "$$\n",
    "\n",
    "> **Ordem importa:** primeiro atualizamos $\\mathbf{q}$ usando $\\mathbf{p}^n$; depois, com $\\mathbf{q}^{n+1}$ em mãos, atualizamos $\\mathbf{p}$.\n"
   ]
  },
  {
   "cell_type": "markdown",
   "id": "2adaa11e",
   "metadata": {},
   "source": [
    "## 5.2 — Implementação: integrador simplético + algoritmo de Hénon (seção q1=0, p1≥0)"
   ]
  },
  {
   "cell_type": "code",
   "execution_count": 1,
   "id": "3aa97452",
   "metadata": {},
   "outputs": [
    {
     "data": {
      "image/png": "[encoded data removed]",
      "text/plain": [
       "<Figure size 640x480 with 1 Axes>"
      ]
     },
     "metadata": {},
     "output_type": "display_data"
    }
   ],
   "source": [
    "import math\n",
    "import numpy as np\n",
    "import matplotlib.pyplot as plt\n",
    "\n",
    "def U_grad(q1, q2):\n",
    "    dU_dq1 = q1 + 2.0*q1*q2\n",
    "    dU_dq2 = q2 + q1*q1 - q2*q2\n",
    "    return dU_dq1, dU_dq2\n",
    "\n",
    "def H(q1,q2,p1,p2):\n",
    "    return 0.5*(p1*p1 + p2*p2 + q1*q1 + q2*q2) + q1*q1*q2 - (1.0/3.0)*q2*q2*q2\n",
    "\n",
    "def euler_symplectic_step(q1,q2,p1,p2, dt):\n",
    "    q1_next = q1 + dt*p1\n",
    "    q2_next = q2 + dt*p2\n",
    "    dU1, dU2 = U_grad(q1_next, q2_next)\n",
    "    p1_next = p1 - dt*dU1\n",
    "    p2_next = p2 - dt*dU2\n",
    "    return q1_next, q2_next, p1_next, p2_next\n",
    "\n",
    "def integrar_HH_symplectic(q1,q2,p1,p2, dt, T):\n",
    "    n = int(np.ceil(T/dt))\n",
    "    Q1=np.empty(n+1); Q2=np.empty(n+1); P1=np.empty(n+1); P2=np.empty(n+1); Tm=np.empty(n+1); E=np.empty(n+1)\n",
    "    Q1[0]=q1; Q2[0]=q2; P1[0]=p1; P2[0]=p2; Tm[0]=0.0; E[0]=H(q1,q2,p1,p2)\n",
    "    for k in range(n):\n",
    "        q1,q2,p1,p2 = euler_symplectic_step(q1,q2,p1,p2, dt)\n",
    "        Q1[k+1]=q1; Q2[k+1]=q2; P1[k+1]=p1; P2[k+1]=p2\n",
    "        Tm[k+1]=(k+1)*dt; E[k+1]=H(q1,q2,p1,p2)\n",
    "    return Tm,Q1,Q2,P1,P2,E\n",
    "\n",
    "def henon_section_q1_zero(q1,q2,p1,p2, dt, T, max_points=2000):\n",
    "    pts_q2 = []; pts_p2 = []\n",
    "    Tm,Q1,Q2,P1,P2,E = integrar_HH_symplectic(q1,q2,p1,p2, dt, T)\n",
    "    for k in range(len(Q1)-1):\n",
    "        q1a, q1b = Q1[k], Q1[k+1]\n",
    "        if q1a == 0.0:\n",
    "            if P1[k] >= 0.0:\n",
    "                pts_q2.append(Q2[k]); pts_p2.append(P2[k])\n",
    "            continue\n",
    "        if q1a*q1b < 0.0:\n",
    "            fq1 = P1[k]  # dq1/dt\n",
    "            if abs(fq1) < 1e-12:\n",
    "                continue\n",
    "            Dq1 = - q1a\n",
    "            dU1, dU2 = U_grad(Q1[k], Q2[k])\n",
    "            dq2_dq1 = P2[k]/fq1\n",
    "            dp1_dq1 = - dU1 / fq1\n",
    "            dp2_dq1 = - dU2 / fq1\n",
    "            q2_star  = Q2[k] + Dq1 * dq2_dq1\n",
    "            p1_star  = P1[k] + Dq1 * dp1_dq1\n",
    "            p2_star  = P2[k] + Dq1 * dp2_dq1\n",
    "            if p1_star >= 0.0:\n",
    "                pts_q2.append(q2_star); pts_p2.append(p2_star)\n",
    "    return np.array(pts_q2), np.array(pts_p2)\n",
    "\n",
    "# Demonstração\n",
    "dt = 1e-3\n",
    "T  = 500.0\n",
    "q1_0, q2_0 = 0.0, 0.2\n",
    "p1_0, p2_0 = 0.4, 0.0\n",
    "\n",
    "q2_pts, p2_pts = henon_section_q1_zero(q1_0, q2_0, p1_0, p2_0, dt, T, max_points=5000)\n",
    "\n",
    "plt.figure()\n",
    "plt.plot(q2_pts, p2_pts, '.', ms=2)\n",
    "plt.xlabel('q2 (na seção q1=0)'); plt.ylabel('p2 (na seção q1=0)')\n",
    "plt.title('Seção de Poincaré (p2 × q2) — Hénon–Heiles — Euler simplético + Hénon')\n",
    "plt.show()\n"
   ]
  },
  {
   "cell_type": "markdown",
   "id": "8f692d82",
   "metadata": {},
   "source": [
    "**Notas rápidas**\n",
    "- O integrador temporal é **Euler simplético** (2ª ordem via mapa 1ª ordem, mas **simplicial** no sentido de preservação de área em cada par canônico).  \n",
    "- O **algoritmo de Hénon** detecta um cruzamento $q_1=0$ e corrige por **um único passo** em $q_1$ para achar o ponto exato da seção (usando $\\dot q_1$=$p_1$).  \n",
    "- Mantemos apenas os pontos com $p_1^*\\ge 0$, como especifica a seção.  \n",
    "- Ajuste $\\Delta t$, $T$ e condições iniciais conforme a energia/figuras desejadas para os próximos itens.\n"
   ]
  },
  {
   "cell_type": "markdown",
   "id": "b966bfd5",
   "metadata": {},
   "source": []
  }
 ],
 "metadata": {
  "kernelspec": {
   "display_name": ".venv",
   "language": "python",
   "name": "python3"
  },
  "language_info": {
   "codemirror_mode": {
    "name": "ipython",
    "version": 3
   },
   "file_extension": ".py",
   "mimetype": "text/x-python",
   "name": "python",
   "nbconvert_exporter": "python",
   "pygments_lexer": "ipython3",
   "version": "3.13.5"
  }
 },
 "nbformat": 4,
 "nbformat_minor": 5
}
