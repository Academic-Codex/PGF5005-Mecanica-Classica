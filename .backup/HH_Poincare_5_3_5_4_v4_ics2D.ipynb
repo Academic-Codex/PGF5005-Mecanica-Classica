{
 "cells": [
  {
   "cell_type": "markdown",
   "id": "04711e1d",
   "metadata": {},
   "source": [
    "# PGF5005 — Hénon–Heiles · **5.3–5.4 (v4 · ICs 2D na seção)**  \n",
    "Seções de Poincaré \\(p_2\\times q_2\\) para \\(\\Sigma:\\ q_1=0,\\ p_1\\ge0\\) com **amostragem 2D** de ICs na seção.\n",
    "\n",
    "**Destaques**\n",
    "- Integração com **Euler simplético (Euler–Cromer)**.\n",
    "- Cruzamento \\(q_1=0\\) por **interpolação linear** (robusto).\n",
    "- **ICs 2D**: para cada \\(q_2\\) permitido, varremos \\(p_1\\in[0,\\sqrt{R(q_2)}]\\) e usamos os dois sinais de \\(p_2\\).\n",
    "- Coleta por **número de interseções** por IC (rápido e previsível).\n",
    "- Presets para \\(E=0.08333\\) e \\(E=0.125\\) com salvamento automático dos PNGs.\n"
   ]
  },
  {
   "cell_type": "markdown",
   "id": "9f698626",
   "metadata": {},
   "source": [
    "## 1) Modelo HH e integrador Euler–Cromer"
   ]
  },
  {
   "cell_type": "code",
   "execution_count": 1,
   "id": "85768943",
   "metadata": {},
   "outputs": [],
   "source": [
    "import math, os, time, numpy as np, matplotlib.pyplot as plt\n",
    "\n",
    "def H(q1,q2,p1,p2):\n",
    "    return 0.5*(p1*p1 + p2*p2 + q1*q1 + q2*q2) + q1*q1*q2 - (1.0/3.0)*q2*q2*q2\n",
    "\n",
    "def euler_symplectic_step(q1,q2,p1,p2, dt):\n",
    "    q1n = q1 + dt*p1\n",
    "    q2n = q2 + dt*p2\n",
    "    dU1 = q1n + 2.0*q1n*q2n\n",
    "    dU2 = q2n + q1n*q1n - q2n*q2n\n",
    "    p1n = p1 - dt*dU1\n",
    "    p2n = p2 - dt*dU2\n",
    "    return q1n,q2n,p1n,p2n\n"
   ]
  },
  {
   "cell_type": "markdown",
   "id": "ad142ac1",
   "metadata": {},
   "source": [
    "## 2) Detector de seção (interpolação linear)"
   ]
  },
  {
   "cell_type": "code",
   "execution_count": 2,
   "id": "13bbc3f5",
   "metadata": {},
   "outputs": [],
   "source": [
    "def collect_crossings(q1,q2,p1,p2, dt, N_target=600, T_max=6000.0, blowup=10.0):\n",
    "    pts_q2, pts_p2 = [], []\n",
    "    t = 0.0\n",
    "    q1n,q2n,p1n,p2n = q1,q2,p1,p2\n",
    "    while t < T_max and len(pts_q2) < N_target:\n",
    "        q1m,q2m,p1m,p2m = euler_symplectic_step(q1n,q2n,p1n,p2n, dt)\n",
    "        if q1n*q1m < 0.0:\n",
    "            s = q1n / (q1n - q1m)\n",
    "            q2_star = q2n + s*(q2m - q2n)\n",
    "            p1_star = p1n + s*(p1m - p1n)\n",
    "            p2_star = p2n + s*(p2m - p2n)\n",
    "            if p1_star >= 0.0:\n",
    "                pts_q2.append(q2_star); pts_p2.append(p2_star)\n",
    "        q1n,q2n,p1n,p2n = q1m,q2m,p1m,p2m\n",
    "        t += dt\n",
    "        if max(abs(q1n),abs(q2n),abs(p1n),abs(p2n)) > blowup:\n",
    "            break\n",
    "    return np.array(pts_q2), np.array(pts_p2)\n"
   ]
  },
  {
   "cell_type": "markdown",
   "id": "677d12ef",
   "metadata": {},
   "source": [
    "## 3) ICs na seção — amostragem 2D"
   ]
  },
  {
   "cell_type": "code",
   "execution_count": 3,
   "id": "09ff435a",
   "metadata": {},
   "outputs": [],
   "source": [
    "def R_of_q2(E, q2):\n",
    "    return 2*E - q2*q2 + (2.0/3.0)*q2*q2*q2\n",
    "\n",
    "def q2_interval(E, n_samples=4000):\n",
    "    q2g = np.linspace(-0.6, 1.2, n_samples)\n",
    "    mask = R_of_q2(E, q2g) >= 0.0\n",
    "    return q2g[mask] if mask.any() else np.array([])\n",
    "\n",
    "def grid_ics_on_section(E, n_q2=28, n_p1=12, use_both_p2_signs=True, eps_q1=1e-6):\n",
    "    q2_allowed = q2_interval(E)\n",
    "    if len(q2_allowed)==0:\n",
    "        return []\n",
    "    q2_vals = np.linspace(q2_allowed.min(), q2_allowed.max(), n_q2)\n",
    "    ics = []\n",
    "    for q2 in q2_vals:\n",
    "        R = R_of_q2(E, q2)\n",
    "        p1_max = math.sqrt(max(0.0, R))\n",
    "        if p1_max == 0.0:\n",
    "            continue\n",
    "        p1_vals = np.linspace(0.0, p1_max, n_p1, endpoint=True)\n",
    "        for p1 in p1_vals:\n",
    "            rem = max(0.0, R - p1*p1)\n",
    "            p2_mag = math.sqrt(rem)\n",
    "            for sgn in ([+1,-1] if use_both_p2_signs else [+1]):\n",
    "                p2 = sgn*p2_mag\n",
    "                ics.append( (1e-6, q2, p1, p2) )\n",
    "    return ics\n"
   ]
  },
  {
   "cell_type": "markdown",
   "id": "0c284633",
   "metadata": {},
   "source": [
    "## 4) Construção da seção para uma energia"
   ]
  },
  {
   "cell_type": "code",
   "execution_count": 4,
   "id": "a770dbdc",
   "metadata": {},
   "outputs": [],
   "source": [
    "def poincare_section_energy(E, dt=5e-4, N_per_ic=400, T_max=4000.0,\n",
    "                             n_q2=28, n_p1=12, both_signs=True, max_ics=None):\n",
    "    ics = grid_ics_on_section(E, n_q2=n_q2, n_p1=n_p1,\n",
    "                              use_both_p2_signs=both_signs, eps_q1=1e-6)\n",
    "    if not ics:\n",
    "        return np.array([]), np.array([])\n",
    "    if max_ics is not None:\n",
    "        ics = ics[:max_ics]\n",
    "    all_q2, all_p2 = [], []\n",
    "    for (q1,q2,p1,p2) in ics:\n",
    "        q2_pts, p2_pts = collect_crossings(q1,q2,p1,p2, dt,\n",
    "                                           N_target=N_per_ic, T_max=T_max, blowup=10.0)\n",
    "        if len(q2_pts):\n",
    "            all_q2.append(q2_pts); all_p2.append(p2_pts)\n",
    "    if not all_q2:\n",
    "        return np.array([]), np.array([])\n",
    "    return np.concatenate(all_q2), np.concatenate(all_p2)\n",
    "\n",
    "def plot_section(q2_pts, p2_pts, E, save=None, xlim=(-0.6,1.2), ylim=(-2.6,2.6)):\n",
    "    import matplotlib.pyplot as plt\n",
    "    plt.figure()\n",
    "    plt.plot(q2_pts, p2_pts, '.', ms=0.8)\n",
    "    plt.xlabel('q2 (na seção q1=0)')\n",
    "    plt.ylabel('p2 (na seção q1=0)')\n",
    "    plt.title(f'Secção de Poincaré (p2 × q2) — Hénon–Heiles — E={E:.5f}')\n",
    "    if xlim: plt.xlim(*xlim)\n",
    "    if ylim: plt.ylim(*ylim)\n",
    "    if save:\n",
    "        os.makedirs('figs', exist_ok=True)\n",
    "        plt.savefig(save, dpi=260, bbox_inches='tight')\n",
    "    plt.show()\n"
   ]
  },
  {
   "cell_type": "markdown",
   "id": "05206d52",
   "metadata": {},
   "source": [
    "## 5) Presets para E=0.08333 e E=0.125 (gera e salva PNGs)"
   ]
  },
  {
   "cell_type": "code",
   "execution_count": 5,
   "id": "5d3a064e",
   "metadata": {},
   "outputs": [
    {
     "data": {
      "image/png": "[encoded data removed]",
      "text/plain": [
       "<Figure size 640x480 with 1 Axes>"
      ]
     },
     "metadata": {},
     "output_type": "display_data"
    },
    {
     "ename": "KeyboardInterrupt",
     "evalue": "",
     "output_type": "error",
     "traceback": [
      "\u001b[31m---------------------------------------------------------------------------\u001b[39m",
      "\u001b[31mKeyboardInterrupt\u001b[39m                         Traceback (most recent call last)",
      "\u001b[36mCell\u001b[39m\u001b[36m \u001b[39m\u001b[32mIn[5]\u001b[39m\u001b[32m, line 15\u001b[39m\n\u001b[32m     11\u001b[39m q2_1, p2_1 = poincare_section_energy(E1, dt=dt, N_per_ic=N_per_ic, T_max=T_max,\n\u001b[32m     12\u001b[39m                                      n_q2=n_q2, n_p1=n_p1, both_signs=both_signs, max_ics=max_ics)\n\u001b[32m     13\u001b[39m plot_section(q2_1, p2_1, E1, save=\u001b[33m'\u001b[39m\u001b[33mfigs/HH_E_008333_v4.png\u001b[39m\u001b[33m'\u001b[39m)\n\u001b[32m---> \u001b[39m\u001b[32m15\u001b[39m q2_2, p2_2 = \u001b[43mpoincare_section_energy\u001b[49m\u001b[43m(\u001b[49m\u001b[43mE2\u001b[49m\u001b[43m,\u001b[49m\u001b[43m \u001b[49m\u001b[43mdt\u001b[49m\u001b[43m=\u001b[49m\u001b[43mdt\u001b[49m\u001b[43m,\u001b[49m\u001b[43m \u001b[49m\u001b[43mN_per_ic\u001b[49m\u001b[43m=\u001b[49m\u001b[43mN_per_ic\u001b[49m\u001b[43m,\u001b[49m\u001b[43m \u001b[49m\u001b[43mT_max\u001b[49m\u001b[43m=\u001b[49m\u001b[43mT_max\u001b[49m\u001b[43m,\u001b[49m\n\u001b[32m     16\u001b[39m \u001b[43m                                     \u001b[49m\u001b[43mn_q2\u001b[49m\u001b[43m=\u001b[49m\u001b[43mn_q2\u001b[49m\u001b[43m,\u001b[49m\u001b[43m \u001b[49m\u001b[43mn_p1\u001b[49m\u001b[43m=\u001b[49m\u001b[43mn_p1\u001b[49m\u001b[43m,\u001b[49m\u001b[43m \u001b[49m\u001b[43mboth_signs\u001b[49m\u001b[43m=\u001b[49m\u001b[43mboth_signs\u001b[49m\u001b[43m,\u001b[49m\u001b[43m \u001b[49m\u001b[43mmax_ics\u001b[49m\u001b[43m=\u001b[49m\u001b[43mmax_ics\u001b[49m\u001b[43m)\u001b[49m\n\u001b[32m     17\u001b[39m plot_section(q2_2, p2_2, E2, save=\u001b[33m'\u001b[39m\u001b[33mfigs/HH_E_012500_v4.png\u001b[39m\u001b[33m'\u001b[39m)\n\u001b[32m     19\u001b[39m \u001b[38;5;28mprint\u001b[39m(\u001b[33m'\u001b[39m\u001b[33mFiguras salvas em ./figs\u001b[39m\u001b[33m'\u001b[39m)\n",
      "\u001b[36mCell\u001b[39m\u001b[36m \u001b[39m\u001b[32mIn[4]\u001b[39m\u001b[32m, line 11\u001b[39m, in \u001b[36mpoincare_section_energy\u001b[39m\u001b[34m(E, dt, N_per_ic, T_max, n_q2, n_p1, both_signs, max_ics)\u001b[39m\n\u001b[32m      9\u001b[39m all_q2, all_p2 = [], []\n\u001b[32m     10\u001b[39m \u001b[38;5;28;01mfor\u001b[39;00m (q1,q2,p1,p2) \u001b[38;5;129;01min\u001b[39;00m ics:\n\u001b[32m---> \u001b[39m\u001b[32m11\u001b[39m     q2_pts, p2_pts = \u001b[43mcollect_crossings\u001b[49m\u001b[43m(\u001b[49m\u001b[43mq1\u001b[49m\u001b[43m,\u001b[49m\u001b[43mq2\u001b[49m\u001b[43m,\u001b[49m\u001b[43mp1\u001b[49m\u001b[43m,\u001b[49m\u001b[43mp2\u001b[49m\u001b[43m,\u001b[49m\u001b[43m \u001b[49m\u001b[43mdt\u001b[49m\u001b[43m,\u001b[49m\n\u001b[32m     12\u001b[39m \u001b[43m                                       \u001b[49m\u001b[43mN_target\u001b[49m\u001b[43m=\u001b[49m\u001b[43mN_per_ic\u001b[49m\u001b[43m,\u001b[49m\u001b[43m \u001b[49m\u001b[43mT_max\u001b[49m\u001b[43m=\u001b[49m\u001b[43mT_max\u001b[49m\u001b[43m,\u001b[49m\u001b[43m \u001b[49m\u001b[43mblowup\u001b[49m\u001b[43m=\u001b[49m\u001b[32;43m10.0\u001b[39;49m\u001b[43m)\u001b[49m\n\u001b[32m     13\u001b[39m     \u001b[38;5;28;01mif\u001b[39;00m \u001b[38;5;28mlen\u001b[39m(q2_pts):\n\u001b[32m     14\u001b[39m         all_q2.append(q2_pts); all_p2.append(p2_pts)\n",
      "\u001b[36mCell\u001b[39m\u001b[36m \u001b[39m\u001b[32mIn[2]\u001b[39m\u001b[32m, line 5\u001b[39m, in \u001b[36mcollect_crossings\u001b[39m\u001b[34m(q1, q2, p1, p2, dt, N_target, T_max, blowup)\u001b[39m\n\u001b[32m      3\u001b[39m t = \u001b[32m0.0\u001b[39m\n\u001b[32m      4\u001b[39m q1n,q2n,p1n,p2n = q1,q2,p1,p2\n\u001b[32m----> \u001b[39m\u001b[32m5\u001b[39m \u001b[38;5;28;01mwhile\u001b[39;00m t < T_max \u001b[38;5;129;01mand\u001b[39;00m \u001b[38;5;28mlen\u001b[39m(pts_q2) < N_target:\n\u001b[32m      6\u001b[39m     q1m,q2m,p1m,p2m = euler_symplectic_step(q1n,q2n,p1n,p2n, dt)\n\u001b[32m      7\u001b[39m     \u001b[38;5;28;01mif\u001b[39;00m q1n*q1m < \u001b[32m0.0\u001b[39m:\n",
      "\u001b[31mKeyboardInterrupt\u001b[39m: "
     ]
    }
   ],
   "source": [
    "dt = 5e-4\n",
    "N_per_ic = 450\n",
    "T_max = 3500.0\n",
    "n_q2 = 26\n",
    "n_p1 = 10\n",
    "both_signs = True\n",
    "max_ics = 520\n",
    "\n",
    "E1, E2 = 0.08333, 0.12500\n",
    "\n",
    "q2_1, p2_1 = poincare_section_energy(E1, dt=dt, N_per_ic=N_per_ic, T_max=T_max,\n",
    "                                     n_q2=n_q2, n_p1=n_p1, both_signs=both_signs, max_ics=max_ics)\n",
    "plot_section(q2_1, p2_1, E1, save='figs/HH_E_008333_v4.png')\n",
    "\n",
    "q2_2, p2_2 = poincare_section_energy(E2, dt=dt, N_per_ic=N_per_ic, T_max=T_max,\n",
    "                                     n_q2=n_q2, n_p1=n_p1, both_signs=both_signs, max_ics=max_ics)\n",
    "plot_section(q2_2, p2_2, E2, save='figs/HH_E_012500_v4.png')\n",
    "\n",
    "print('Figuras salvas em ./figs')"
   ]
  },
  {
   "cell_type": "code",
   "execution_count": null,
   "id": "7d385a33",
   "metadata": {},
   "outputs": [],
   "source": []
  }
 ],
 "metadata": {
  "kernelspec": {
   "display_name": ".venv",
   "language": "python",
   "name": "python3"
  },
  "language_info": {
   "codemirror_mode": {
    "name": "ipython",
    "version": 3
   },
   "file_extension": ".py",
   "mimetype": "text/x-python",
   "name": "python",
   "nbconvert_exporter": "python",
   "pygments_lexer": "ipython3",
   "version": "3.13.5"
  }
 },
 "nbformat": 4,
 "nbformat_minor": 5
}
