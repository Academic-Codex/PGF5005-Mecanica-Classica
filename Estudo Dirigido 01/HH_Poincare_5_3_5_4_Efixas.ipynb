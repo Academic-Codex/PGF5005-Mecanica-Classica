{
 "cells": [
  {
   "cell_type": "markdown",
   "id": "0c6e1ee9",
   "metadata": {},
   "source": [
    "# PGF5005 — Exercício 5 · Hénon–Heiles — Itens **5.3** e **5.4**  \n",
    "**Seções de Poincaré em energias fixas** \\(E=0.08333\\) e \\(E=0.125\\)\n",
    "\n",
    "Vamos gerar as figuras inspiradas nas Fig. 4 e Fig. 5 do artigo de Hénon–Heiles:\n",
    "\n",
    "- Seção: \\(\\Sigma=\\{q_1=0,\\,p_1\\ge 0\\}\\) e plote **\\(p_2 \\times q_2\\)**.\n",
    "- Integração com **Euler simplético** + **Algoritmo de Hénon** (da etapa 5.2).\n",
    "- Conjuntos de condições iniciais são escolhidos sobre a **própria seção**, impondo a energia total \\(H=E\\).\n"
   ]
  },
  {
   "cell_type": "markdown",
   "id": "9176f028",
   "metadata": {},
   "source": [
    "## 1) Modelo HH, integrador simplético e seção de Hénon"
   ]
  },
  {
   "cell_type": "code",
   "execution_count": null,
   "id": "21bbbbe0",
   "metadata": {},
   "outputs": [],
   "source": [
    "import math\n",
    "import numpy as np\n",
    "import matplotlib.pyplot as plt\n",
    "\n",
    "def U_grad(q1, q2):\n",
    "    dU_dq1 = q1 + 2.0*q1*q2\n",
    "    dU_dq2 = q2 + q1*q1 - q2*q2\n",
    "    return dU_dq1, dU_dq2\n",
    "\n",
    "def H(q1,q2,p1,p2):\n",
    "    return 0.5*(p1*p1 + p2*p2 + q1*q1 + q2*q2) + q1*q1*q2 - (1.0/3.0)*q2*q2*q2\n",
    "\n",
    "def euler_symplectic_step(q1,q2,p1,p2, dt):\n",
    "    q1_next = q1 + dt*p1\n",
    "    q2_next = q2 + dt*p2\n",
    "    dU1, dU2 = U_grad(q1_next, q2_next)\n",
    "    p1_next = p1 - dt*dU1\n",
    "    p2_next = p2 - dt*dU2\n",
    "    return q1_next, q2_next, p1_next, p2_next\n",
    "\n",
    "def integrar_HH_symplectic(q1,q2,p1,p2, dt, T):\n",
    "    n = int(np.ceil(T/dt))\n",
    "    Q1=np.empty(n+1); Q2=np.empty(n+1); P1=np.empty(n+1); P2=np.empty(n+1); Tm=np.empty(n+1); E=np.empty(n+1)\n",
    "    Q1[0]=q1; Q2[0]=q2; P1[0]=p1; P2[0]=p2; Tm[0]=0.0; E[0]=H(q1,q2,p1,p2)\n",
    "    for k in range(n):\n",
    "        q1,q2,p1,p2 = euler_symplectic_step(q1,q2,p1,p2, dt)\n",
    "        Q1[k+1]=q1; Q2[k+1]=q2; P1[k+1]=p1; P2[k+1]=p2\n",
    "        Tm[k+1]=(k+1)*dt; E[k+1]=H(q1,q2,p1,p2)\n",
    "    return Tm,Q1,Q2,P1,P2,E\n",
    "\n",
    "def henon_section_q1_zero(q1,q2,p1,p2, dt, T):\n",
    "    pts_q2 = []; pts_p2 = []\n",
    "    Tm,Q1,Q2,P1,P2,E = integrar_HH_symplectic(q1,q2,p1,p2, dt, T)\n",
    "    for k in range(len(Q1)-1):\n",
    "        q1a, q1b = Q1[k], Q1[k+1]\n",
    "        if q1a == 0.0 and P1[k] >= 0.0:\n",
    "            pts_q2.append(Q2[k]); pts_p2.append(P2[k])\n",
    "        if q1a*q1b < 0.0:\n",
    "            fq1 = P1[k]\n",
    "            if abs(fq1) < 1e-12:\n",
    "                continue\n",
    "            Dq1 = - q1a\n",
    "            dU1, dU2 = U_grad(Q1[k], Q2[k])\n",
    "            dq2_dq1 = P2[k]/fq1\n",
    "            dp1_dq1 = - dU1 / fq1\n",
    "            dp2_dq1 = - dU2 / fq1\n",
    "            q2_star  = Q2[k] + Dq1 * dq2_dq1\n",
    "            p1_star  = P1[k] + Dq1 * dp1_dq1\n",
    "            p2_star  = P2[k] + Dq1 * dp2_dq1\n",
    "            if p1_star >= 0.0:\n",
    "                pts_q2.append(q2_star); pts_p2.append(p2_star)\n",
    "    return np.array(pts_q2), np.array(pts_p2)\n"
   ]
  },
  {
   "cell_type": "markdown",
   "id": "5b9b47c5",
   "metadata": {},
   "source": [
    "## 2) Condições iniciais na seção para energia fixa\n",
    "\n",
    "Em \\(\\Sigma\\) impomos \\(q_1=0\\), \\(p_2=0\\) e escolhemos \\(q_2\\) no intervalo permitido pela energia \\(E\\).  \n",
    "Então \\(p_1\\ge 0\\) é dado por:\n",
    "\\[\n",
    "p_1(q_2;E) = \\sqrt{\\,2\\left(E - \\tfrac{1}{2}q_2^2 + \\tfrac{1}{3}q_2^3\\right)\\,}.\n",
    "\\]"
   ]
  },
  {
   "cell_type": "code",
   "execution_count": null,
   "id": "ab438a6c",
   "metadata": {},
   "outputs": [],
   "source": [
    "def allowed_q2_interval(E, n_samples=2000):\n",
    "    q2_grid = np.linspace(-1.5, 1.5, n_samples)\n",
    "    rad = 2*(E - 0.5*q2_grid**2 + (1.0/3.0)*q2_grid**3)\n",
    "    return q2_grid[rad>=0.0]\n",
    "\n",
    "def p1_from_energy(E, q2):\n",
    "    rad = 2*(E - 0.5*q2*q2 + (1.0/3.0)*q2*q2*q2)\n",
    "    rad = max(rad, 0.0)\n",
    "    return math.sqrt(rad)\n"
   ]
  },
  {
   "cell_type": "markdown",
   "id": "bd9772e5",
   "metadata": {},
   "source": [
    "## 3) Construção da seção para um valor de \\(E\\)"
   ]
  },
  {
   "cell_type": "code",
   "execution_count": null,
   "id": "1452752a",
   "metadata": {},
   "outputs": [],
   "source": [
    "def poincare_section_energy(E, dt=1e-3, T=3000.0, n_ic=25):\n",
    "    q2_allowed = allowed_q2_interval(E)\n",
    "    if len(q2_allowed)==0:\n",
    "        return np.array([]), np.array([])\n",
    "    idx = np.linspace(0, len(q2_allowed)-1, n_ic).astype(int)\n",
    "    q2_ics = q2_allowed[idx]\n",
    "    all_q2 = []; all_p2 = []\n",
    "    for q2_0 in q2_ics:\n",
    "        p1_0 = p1_from_energy(E, q2_0)  # p1>=0\n",
    "        q2_pts, p2_pts = henon_section_q1_zero(0.0, q2_0, p1_0, 0.0, dt, T)\n",
    "        if len(q2_pts):\n",
    "            all_q2.append(q2_pts); all_p2.append(p2_pts)\n",
    "    if len(all_q2)==0:\n",
    "        return np.array([]), np.array([])\n",
    "    return np.concatenate(all_q2), np.concatenate(all_p2)\n",
    "\n",
    "def plot_section(q2_pts, p2_pts, E, save=None):\n",
    "    plt.figure()\n",
    "    plt.plot(q2_pts, p2_pts, '.', ms=1.2)\n",
    "    plt.xlabel('q2 (na seção q1=0)')\n",
    "    plt.ylabel('p2 (na seção q1=0)')\n",
    "    plt.title(f'Secção de Poincaré (p2 × q2) — Hénon–Heiles — E={E:.5f}')\n",
    "    if save:\n",
    "        plt.savefig(save, dpi=220, bbox_inches='tight')\n",
    "    plt.show()\n"
   ]
  },
  {
   "cell_type": "markdown",
   "id": "48b4a369",
   "metadata": {},
   "source": [
    "## 4) Executar para **E=0.08333** e **E=0.125**"
   ]
  },
  {
   "cell_type": "code",
   "execution_count": null,
   "id": "a81fadcf",
   "metadata": {},
   "outputs": [],
   "source": [
    "E1 = 0.08333\n",
    "E2 = 0.12500\n",
    "dt = 1e-3\n",
    "T  = 4000.0\n",
    "n_ic = 35\n",
    "\n",
    "q2_1, p2_1 = poincare_section_energy(E1, dt=dt, T=T, n_ic=n_ic)\n",
    "plot_section(q2_1, p2_1, E1)\n",
    "\n",
    "q2_2, p2_2 = poincare_section_energy(E2, dt=dt, T=T, n_ic=n_ic)\n",
    "plot_section(q2_2, p2_2, E2)\n"
   ]
  },
  {
   "cell_type": "markdown",
   "id": "3113cf78",
   "metadata": {},
   "source": [
    "**Dicas para ficar mais parecido com as Fig. 4 e 5 (Hénon–Heiles):**\n",
    "- Aumente `T` (ex.: 8000–15000) e/ou `n_ic` (ex.: 60–120) para maior densidade.\n",
    "- Mantenha `dt` pequeno (ex.: \\(10^{-3}\\) ou \\(5\\times 10^{-4}\\)).\n",
    "- Salve com `save='fig_E_008333.png'` e `save='fig_E_0125.png'` dentro de `plot_section(...)`.\n"
   ]
  }
 ],
 "metadata": {},
 "nbformat": 4,
 "nbformat_minor": 5
}
