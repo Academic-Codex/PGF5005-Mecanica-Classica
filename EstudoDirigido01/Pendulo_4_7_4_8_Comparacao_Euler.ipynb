{
 "cells": [
  {
   "cell_type": "markdown",
   "id": "4ce11513",
   "metadata": {},
   "source": [
    "# PGF5005 — Mecânica Clássica · Itens 4.7 e 4.8  \n",
    "**Pêndulo simples — Euler simplético implementado e comparação com Euler convencional**\n",
    "\n",
    "- **4.7**: implementação computacional do **Euler simplético (Euler–Cromer)** para o pêndulo simples adimensional.  \n",
    "- **4.8**: repetir os gráficos do **4.3** \\([q(t),p(t)]\\) para **librar** e **rotacionar**, com \\(\\Delta t=10^{-1},10^{-2},10^{-3}\\), agora com **Euler simplético** e **comparar** com as curvas do **Euler convencional**.\n"
   ]
  },
  {
   "cell_type": "markdown",
   "id": "8c42ec3b",
   "metadata": {},
   "source": [
    "## 1) Modelo do pêndulo e energia"
   ]
  },
  {
   "cell_type": "code",
   "execution_count": null,
   "id": "43957f23",
   "metadata": {},
   "outputs": [],
   "source": [
    "import math\n",
    "import numpy as np\n",
    "import matplotlib.pyplot as plt\n",
    "\n",
    "def dU_dq(q):\n",
    "    \"\"\"dU/dq para U(q) = -cos q -> sin q\"\"\"\n",
    "    return math.sin(q)\n",
    "\n",
    "def H(q, p):\n",
    "    return 0.5*p*p - math.cos(q)\n"
   ]
  },
  {
   "cell_type": "markdown",
   "id": "b4e32af1",
   "metadata": {},
   "source": [
    "## 2) Integrador **Euler convencional** (referência para comparação)"
   ]
  },
  {
   "cell_type": "code",
   "execution_count": null,
   "id": "7e326847",
   "metadata": {},
   "outputs": [],
   "source": [
    "def euler_conv_step(q, p, dt):\n",
    "    # q^{n+1} = q^n + dt * p^n\n",
    "    q_next = q + dt * p\n",
    "    # p^{n+1} = p^n - dt * sin(q^n)\n",
    "    p_next = p - dt * dU_dq(q)  # usa q^n\n",
    "    return q_next, p_next\n",
    "\n",
    "def integrar_euler_conv(q0, p0, dt, T):\n",
    "    n = int(np.ceil(T/dt))\n",
    "    t = np.empty(n+1); q = np.empty(n+1); p = np.empty(n+1); E = np.empty(n+1)\n",
    "    t[0]=0.0; q[0]=q0; p[0]=p0; E[0]=H(q0,p0)\n",
    "    for k in range(n):\n",
    "        q[k+1], p[k+1] = euler_conv_step(q[k], p[k], dt)\n",
    "        t[k+1]=(k+1)*dt\n",
    "        E[k+1]=H(q[k+1], p[k+1])\n",
    "    return t,q,p,E\n"
   ]
  },
  {
   "cell_type": "markdown",
   "id": "40db4bb0",
   "metadata": {},
   "source": [
    "## 3) **Euler simplético (Euler–Cromer)** — implementação pedida no **4.7**\n",
    "\n",
    "\\[\n",
    "q^{n+1}=q^n+\\Delta t\\,p^n,\\qquad\n",
    "p^{n+1}=p^n-\\Delta t\\,\\sin\\!\\big(q^{n+1}\\big).\n",
    "\\]"
   ]
  },
  {
   "cell_type": "code",
   "execution_count": null,
   "id": "499ddc14",
   "metadata": {},
   "outputs": [],
   "source": [
    "def euler_symp_step(q, p, dt):\n",
    "    q_next = q + dt * p               # usa p^n\n",
    "    p_next = p - dt * dU_dq(q_next)   # usa q^{n+1}\n",
    "    return q_next, p_next\n",
    "\n",
    "def integrar_euler_symp(q0, p0, dt, T):\n",
    "    n = int(np.ceil(T/dt))\n",
    "    t = np.empty(n+1); q = np.empty(n+1); p = np.empty(n+1); E = np.empty(n+1)\n",
    "    t[0]=0.0; q[0]=q0; p[0]=p0; E[0]=H(q0,p0)\n",
    "    for k in range(n):\n",
    "        q[k+1], p[k+1] = euler_symp_step(q[k], p[k], dt)\n",
    "        t[k+1]=(k+1)*dt\n",
    "        E[k+1]=H(q[k+1], p[k+1])\n",
    "    return t,q,p,E\n"
   ]
  },
  {
   "cell_type": "markdown",
   "id": "b8d07009",
   "metadata": {},
   "source": [
    "## 4) Funções auxiliares para o **4.8** (varrer três Δt e plotar)"
   ]
  },
  {
   "cell_type": "code",
   "execution_count": null,
   "id": "424cffa3",
   "metadata": {},
   "outputs": [],
   "source": [
    "def simular_tres_dts(integrador, q0, p0, T, dt_list):\n",
    "    resultados = {}\n",
    "    for dt in dt_list:\n",
    "        resultados[dt] = integrador(q0, p0, dt, T)\n",
    "    return resultados\n",
    "\n",
    "def plot_comparacao(series_A, series_B, title, ylab):\n",
    "    \"\"\"Plota no mesmo gráfico as três curvas do método A e as três do método B.\n",
    "    series_*: lista de tuplas (t, y, label).\n",
    "    \"\"\"\n",
    "    plt.figure()\n",
    "    for t,y,label in series_A:\n",
    "        plt.plot(t,y,label=label, lw=1.2)\n",
    "    for t,y,label in series_B:\n",
    "        plt.plot(t,y,label=label, lw=1.2, linestyle='--')\n",
    "    plt.xlabel('t')\n",
    "    plt.ylabel(ylab)\n",
    "    plt.title(title + '\\n(linha cheia: simplético · tracejada: conv.)')\n",
    "    plt.legend()\n",
    "    plt.show()\n"
   ]
  },
  {
   "cell_type": "markdown",
   "id": "e08a54fc",
   "metadata": {},
   "source": [
    "## 5) Execução: **librar** e **rotacionar** para \\(\\Delta t = 10^{-1},10^{-2},10^{-3}\\)\n",
    "\n",
    "Comparamos **Euler simplético** (linhas cheias) vs **Euler convencional** (linhas tracejadas).\n"
   ]
  },
  {
   "cell_type": "code",
   "execution_count": null,
   "id": "718d03af",
   "metadata": {},
   "outputs": [],
   "source": [
    "# parâmetros\n",
    "dt_list = [1e-1, 1e-2, 1e-3]\n",
    "T = 30.0\n",
    "\n",
    "def rodar(q0, p0, nome):\n",
    "    # simulações\n",
    "    res_symp = simular_tres_dts(integrar_euler_symp, q0, p0, T, dt_list)\n",
    "    res_conv = simular_tres_dts(integrar_euler_conv, q0, p0, T, dt_list)\n",
    "    # séries para q(t)\n",
    "    series_q_symp = [(t,q,f\"symp dt={dt:g}\") for dt,(t,q,p,E) in res_symp.items()]\n",
    "    series_q_conv = [(t,q,f\"conv dt={dt:g}\") for dt,(t,q,p,E) in res_conv.items()]\n",
    "    plot_comparacao(series_q_symp, series_q_conv, f\"4.8 — {nome}: q(t) com 3 passos dt\", \"q(t)\")\n",
    "    # séries para p(t)\n",
    "    series_p_symp = [(t,p,f\"symp dt={dt:g}\") for dt,(t,q,p,E) in res_symp.items()]\n",
    "    series_p_conv = [(t,p,f\"conv dt={dt:g}\") for dt,(t,q,p,E) in res_conv.items()]\n",
    "    plot_comparacao(series_p_symp, series_p_conv, f\"4.8 — {nome}: p(t) com 3 passos dt\", \"p(t)\")\n",
    "\n",
    "# **Librar**\n",
    "rodar(0.5, 0.0, \"Librar (q0=0.5, p0=0.0)\")\n",
    "# **Rotacionar**\n",
    "rodar(0.0, 2.2, \"Rotacionar (q0=0.0, p0=2.2)\")\n"
   ]
  },
  {
   "cell_type": "markdown",
   "id": "ca72d6d7",
   "metadata": {},
   "source": [
    "---\n",
    "## 6) Roteiro de comentários para o relatório (o que observar)\n",
    "\n",
    "- **Euler simplético** apresenta **oscilação quase-conservada** de energia e trajetórias mais fiéis\n",
    "  (sem *drift* sistemático), especialmente visível para \\(\\Delta t=10^{-2},10^{-3}\\).\n",
    "- O **Euler convencional** tende a introduzir **deriva de energia** e distorções na fase para \\(\\Delta t\\) maiores,\n",
    "  evidentes nas curvas de \\(q(t)\\) e \\(p(t)\\) comparadas às do simplético.\n",
    "- Para **librar**, observe periodicidade estável no simplético vs. variação de amplitude no convencional.\n",
    "- Para **rotacionar**, o simplético mantém o crescimento monótono de \\(q(t)\\) e comportamento de \\(p(t)\\) coerente; o convencional pode atrasar/adiantar a fase.\n",
    "\n",
    "> Obs.: linhas **cheias** = Euler **simplético**; **tracejadas** = Euler **convencional**.\n"
   ]
  }
 ],
 "metadata": {},
 "nbformat": 4,
 "nbformat_minor": 5
}
