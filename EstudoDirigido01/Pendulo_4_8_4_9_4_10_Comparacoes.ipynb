{
 "cells": [
  {
   "cell_type": "markdown",
   "id": "a2ef76c9",
   "metadata": {},
   "source": [
    "# PGF5005 — Mecânica Clássica · Itens **4.8, 4.9 e 4.10**  \n",
    "**Comparações: Euler simplético × Euler convencional**\n",
    "\n",
    "- **4.8** — Refaça os gráficos \\(q(t)\\times t\\) e \\(p(t)\\times t\\) para **librar** e **rotacionar** com \\(\\Delta t=\\{10^{-1},10^{-2},10^{-3}\\}\\), agora comparando **Euler simplético** com **Euler convencional**.  \n",
    "- **4.9** — Refaça \\(E(t)\\times t\\) para os mesmos casos e compare.  \n",
    "- **4.10** — Em analogia ao 4.5, construa os **diagramas de fase \\(p(t)\\times q(t)\\)** e compare.\n",
    "\n",
    "> Convenção nos gráficos: **linha cheia** = *Euler simplético* (Euler–Cromer); **tracejada** = *Euler convencional*.\n"
   ]
  },
  {
   "cell_type": "markdown",
   "id": "16e62c85",
   "metadata": {},
   "source": [
    "## 1) Imports e modelo do pêndulo"
   ]
  },
  {
   "cell_type": "code",
   "execution_count": null,
   "id": "b83977df",
   "metadata": {},
   "outputs": [],
   "source": [
    "import math\n",
    "import numpy as np\n",
    "import matplotlib.pyplot as plt\n",
    "\n",
    "# === Modelo do pêndulo adimensional ===\n",
    "def dU_dq(q):   # U(q) = -cos q\n",
    "    return math.sin(q)\n",
    "\n",
    "def H(q, p):\n",
    "    return 0.5*p*p - math.cos(q)\n"
   ]
  },
  {
   "cell_type": "markdown",
   "id": "1dedcbb6",
   "metadata": {},
   "source": [
    "## 2) Integradores: Euler **convencional** e Euler **simplético**"
   ]
  },
  {
   "cell_type": "code",
   "execution_count": null,
   "id": "fd082321",
   "metadata": {},
   "outputs": [],
   "source": [
    "# --- Euler convencional ---\n",
    "def euler_conv_step(q, p, dt):\n",
    "    q_next = q + dt * p          # usa p^n\n",
    "    p_next = p - dt * dU_dq(q)   # usa q^n\n",
    "    return q_next, p_next\n",
    "\n",
    "def integrar_euler_conv(q0, p0, dt, T):\n",
    "    n = int(np.ceil(T/dt))\n",
    "    t = np.empty(n+1); q = np.empty(n+1); p = np.empty(n+1); E = np.empty(n+1)\n",
    "    t[0]=0.0; q[0]=q0; p[0]=p0; E[0]=H(q0,p0)\n",
    "    for k in range(n):\n",
    "        q[k+1], p[k+1] = euler_conv_step(q[k], p[k], dt)\n",
    "        t[k+1]=(k+1)*dt\n",
    "        E[k+1]=H(q[k+1], p[k+1])\n",
    "    return t,q,p,E\n",
    "\n",
    "# --- Euler simplético (Euler–Cromer) ---\n",
    "def euler_symp_step(q, p, dt):\n",
    "    q_next = q + dt * p              # usa p^n\n",
    "    p_next = p - dt * dU_dq(q_next)  # usa q^{n+1}\n",
    "    return q_next, p_next\n",
    "\n",
    "def integrar_euler_symp(q0, p0, dt, T):\n",
    "    n = int(np.ceil(T/dt))\n",
    "    t = np.empty(n+1); q = np.empty(n+1); p = np.empty(n+1); E = np.empty(n+1)\n",
    "    t[0]=0.0; q[0]=q0; p[0]=p0; E[0]=H(q0,p0)\n",
    "    for k in range(n):\n",
    "        q[k+1], p[k+1] = euler_symp_step(q[k], p[k], dt)\n",
    "        t[k+1]=(k+1)*dt\n",
    "        E[k+1]=H(q[k+1], p[k+1])\n",
    "    return t,q,p,E\n"
   ]
  },
  {
   "cell_type": "markdown",
   "id": "c6aa985a",
   "metadata": {},
   "source": [
    "## 3) Utilitários de simulação e gráficos"
   ]
  },
  {
   "cell_type": "code",
   "execution_count": null,
   "id": "56a36f9f",
   "metadata": {},
   "outputs": [],
   "source": [
    "def simular_tres_dts(integrador, q0, p0, T, dt_list):\n",
    "    resultados = {}\n",
    "    for dt in dt_list:\n",
    "        resultados[dt] = integrador(q0, p0, dt, T)\n",
    "    return resultados\n",
    "\n",
    "def plot_duplo(series_A, series_B, xlab, ylab, title, save=None):\n",
    "    \"\"\"Plota A (cheio) e B (tracejado) com 3 curvas cada.\n",
    "    series_*: lista de (x, y, label).\n",
    "    save: caminho para salvar PNG (opcional).\n",
    "    \"\"\"\n",
    "    plt.figure()\n",
    "    for x,y,label in series_A:\n",
    "        plt.plot(x,y,label=label, lw=1.2)\n",
    "    for x,y,label in series_B:\n",
    "        plt.plot(x,y,label=label, lw=1.2, linestyle='--')\n",
    "    plt.xlabel(xlab); plt.ylabel(ylab); plt.title(title + '\\n(cheio: simplético · tracejado: conv.)')\n",
    "    plt.legend()\n",
    "    if save:\n",
    "        plt.savefig(save, dpi=200, bbox_inches='tight')\n",
    "    plt.show()\n",
    "\n",
    "def plot_fase_duplo(series_A, series_B, title, save=None):\n",
    "    \"\"\"Series_*: lista de (q, p, label).\"\"\"\n",
    "    plt.figure()\n",
    "    for q,p,label in series_A:\n",
    "        plt.plot(q,p,label=label, lw=1.2)\n",
    "    for q,p,label in series_B:\n",
    "        plt.plot(q,p,label=label, lw=1.2, linestyle='--')\n",
    "    plt.xlabel('q(t)'); plt.ylabel('p(t)'); plt.title(title + '\\n(cheio: simplético · tracejado: conv.)')\n",
    "    plt.legend()\n",
    "    if save:\n",
    "        plt.savefig(save, dpi=200, bbox_inches='tight')\n",
    "    plt.show()\n"
   ]
  },
  {
   "cell_type": "markdown",
   "id": "f3503574",
   "metadata": {},
   "source": [
    "## 4) Configuração dos cenários"
   ]
  },
  {
   "cell_type": "code",
   "execution_count": null,
   "id": "a26f269b",
   "metadata": {},
   "outputs": [],
   "source": [
    "dt_list = [1e-1, 1e-2, 1e-3]\n",
    "T = 30.0\n",
    "\n",
    "# condições iniciais\n",
    "ics = {\n",
    "    'Librar (q0=0.5, p0=0.0)': (0.5, 0.0),\n",
    "    'Rotacionar (q0=0.0, p0=2.2)': (0.0, 2.2),\n",
    "}\n"
   ]
  },
  {
   "cell_type": "markdown",
   "id": "8b4bf8d5",
   "metadata": {},
   "source": [
    "## 5) **Item 4.8** — q(t) × t e p(t) × t (comparação)"
   ]
  },
  {
   "cell_type": "code",
   "execution_count": null,
   "id": "65a89a56",
   "metadata": {},
   "outputs": [],
   "source": [
    "for nome,(q0,p0) in ics.items():\n",
    "    res_symp = simular_tres_dts(integrar_euler_symp, q0, p0, T, dt_list)\n",
    "    res_conv = simular_tres_dts(integrar_euler_conv, q0, p0, T, dt_list)\n",
    "\n",
    "    series_q_symp = [(t,q,f\"symp dt={dt:g}\") for dt,(t,q,p,E) in res_symp.items()]\n",
    "    series_q_conv = [(t,q,f\"conv dt={dt:g}\") for dt,(t,q,p,E) in res_conv.items()]\n",
    "    plot_duplo(series_q_symp, series_q_conv, 't', 'q(t)', f'4.8 — {nome}: q(t) com 3 passos', save=None)\n",
    "\n",
    "    series_p_symp = [(t,p,f\"symp dt={dt:g}\") for dt,(t,q,p,E) in res_symp.items()]\n",
    "    series_p_conv = [(t,p,f\"conv dt={dt:g}\") for dt,(t,q,p,E) in res_conv.items()]\n",
    "    plot_duplo(series_p_symp, series_p_conv, 't', 'p(t)', f'4.8 — {nome}: p(t) com 3 passos', save=None)\n"
   ]
  },
  {
   "cell_type": "markdown",
   "id": "c88171b1",
   "metadata": {},
   "source": [
    "## 6) **Item 4.9** — Energia E(t) × t (comparação)"
   ]
  },
  {
   "cell_type": "code",
   "execution_count": null,
   "id": "3fcb291f",
   "metadata": {},
   "outputs": [],
   "source": [
    "for nome,(q0,p0) in ics.items():\n",
    "    res_symp = simular_tres_dts(integrar_euler_symp, q0, p0, T, dt_list)\n",
    "    res_conv = simular_tres_dts(integrar_euler_conv, q0, p0, T, dt_list)\n",
    "\n",
    "    series_E_symp = [(t,E,f\"symp dt={dt:g}\") for dt,(t,q,p,E) in res_symp.items()]\n",
    "    series_E_conv = [(t,E,f\"conv dt={dt:g}\") for dt,(t,q,p,E) in res_conv.items()]\n",
    "    plot_duplo(series_E_symp, series_E_conv, 't', 'E(t)', f'4.9 — {nome}: Energia com 3 passos', save=None)\n"
   ]
  },
  {
   "cell_type": "markdown",
   "id": "9a700d65",
   "metadata": {},
   "source": [
    "## 7) **Item 4.10** — Diagramas de fase p(t) × q(t) (comparação)"
   ]
  },
  {
   "cell_type": "code",
   "execution_count": null,
   "id": "bc7525e1",
   "metadata": {},
   "outputs": [],
   "source": [
    "for nome,(q0,p0) in ics.items():\n",
    "    res_symp = simular_tres_dts(integrar_euler_symp, q0, p0, T, dt_list)\n",
    "    res_conv = simular_tres_dts(integrar_euler_conv, q0, p0, T, dt_list)\n",
    "\n",
    "    series_phase_symp = [(q,p,f\"symp dt={dt:g}\") for dt,(t,q,p,E) in res_symp.items()]\n",
    "    series_phase_conv = [(q,p,f\"conv dt={dt:g}\") for dt,(t,q,p,E) in res_conv.items()]\n",
    "    plot_fase_duplo(series_phase_symp, series_phase_conv, f'4.10 — {nome}: Fase p×q com 3 passos', save=None)\n"
   ]
  },
  {
   "cell_type": "markdown",
   "id": "e93a341d",
   "metadata": {},
   "source": [
    "---\n",
    "## 8) O que comentar no relatório\n",
    "\n",
    "- O **Euler simplético** mantém **quase-conservação de energia**: \\(E(t)\\) oscila em torno de um valor médio\n",
    "  (sem *drift* sistemático), sobretudo para \\(\\Delta t\\) pequenos.\n",
    "- O **Euler convencional** tende a apresentar **deriva** da energia ao longo do tempo (crescimento/decrescimento\n",
    "  monotônico), que aparece nos gráficos de \\(E(t)\\), e se traduz em distorções nas curvas de \\(q(t)\\), \\(p(t)\\) e também no\n",
    "  diagrama de fase \\(p\\times q\\) (espirais que se afastam/aproximam do nível de energia).\n",
    "- Ao reduzir \\(\\Delta t\\) de \\(10^{-1}\\) para \\(10^{-3}\\), as discrepâncias se reduzem e as duas integrações convergem.\n"
   ]
  }
 ],
 "metadata": {},
 "nbformat": 4,
 "nbformat_minor": 5
}
