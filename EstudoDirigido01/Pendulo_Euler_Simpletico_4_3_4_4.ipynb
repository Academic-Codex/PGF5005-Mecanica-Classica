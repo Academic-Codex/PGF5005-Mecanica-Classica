{
 "cells": [
  {
   "cell_type": "markdown",
   "id": "902f9a58",
   "metadata": {},
   "source": [
    "# PGF5005 — Mecânica Clássica · Itens 4.3 e 4.4  \n",
    "**Pêndulo simples com *Euler simplético* (Euler–Cromer)**\n",
    "\n",
    "Neste caderno implementamos, de forma modularizada e comentada, o método **Euler simplético** para o pêndulo simples adimensional com\n",
    "\\[\n",
    "H(q,p) = \\frac{p^2}{2} - \\cos q.\n",
    "\\]\n",
    "\n",
    "Do texto (seção 2.2), para Hamiltonianas separáveis \\(H(q,p)=K(p)+U(q)\\), o **Euler simplético** é:\n",
    "\\[\n",
    "\\boxed{\n",
    "\\begin{aligned}\n",
    "q^{(n+1)} &= q^{(n)} + \\Delta t\\,\\frac{\\partial H}{\\partial p}\\big|_{p^{(n)}} = q^{(n)} + \\Delta t\\,p^{(n)},\\\\[2pt]\n",
    "p^{(n+1)} &= p^{(n)} - \\Delta t\\,\\frac{\\partial H}{\\partial q}\\big|_{q^{(n+1)}} = p^{(n)} - \\Delta t\\,\\sin\\!\\big(q^{(n+1)}\\big).\n",
    "\\end{aligned}}\n",
    "\\]\n",
    "\n",
    "No **item 4.3**, vamos gerar, para **dois conjuntos de condições iniciais** (librar e rotacionar), os gráficos \\(q(t)\\times t\\) e \\(p(t)\\times t\\) usando\n",
    "\\(\\Delta t \\in \\{10^{-1},10^{-2},10^{-3}\\}\\) — as **três curvas no mesmo gráfico** para comparar.\n",
    "\n",
    "No **item 4.4**, verificamos numericamente a energia total do sistema, isto é, traçamos \\(E(t)\\times t\\) para as mesmas condições e passos de tempo.\n"
   ]
  },
  {
   "cell_type": "markdown",
   "id": "0811210f",
   "metadata": {},
   "source": [
    "## 1) Imports e utilidades"
   ]
  },
  {
   "cell_type": "code",
   "execution_count": null,
   "id": "f01d63cd",
   "metadata": {},
   "outputs": [],
   "source": [
    "# Requisitos: numpy e matplotlib (sem seaborn, sem estilos)\n",
    "import math\n",
    "import numpy as np\n",
    "import matplotlib.pyplot as plt\n",
    "from dataclasses import dataclass\n"
   ]
  },
  {
   "cell_type": "markdown",
   "id": "36124c6f",
   "metadata": {},
   "source": [
    "## 2) Modelo do pêndulo e funções auxiliares\n",
    "\n",
    "- \\(\\dot q = \\partial H/\\partial p = p\\)  \n",
    "- \\(\\dot p = -\\,\\partial H/\\partial q = -\\sin q\\)  \n",
    "- \\(H(q,p) = \\tfrac{1}{2}p^2 - \\cos q\\)\n",
    "\n",
    "A **separatriz** (limite entre librar e rotacionar) ocorre na energia \\(H=+1\\).\n"
   ]
  },
  {
   "cell_type": "code",
   "execution_count": null,
   "id": "9cf3489d",
   "metadata": {},
   "outputs": [],
   "source": [
    "def dq_dt(q, p):\n",
    "    \"\"\"dq/dt para o pêndulo simples: p.\"\"\"\n",
    "    return p\n",
    "\n",
    "def dU_dq(q):\n",
    "    \"\"\"derivada de U(q) = -cos(q): dU/dq = sin(q).\"\"\"\n",
    "    return math.sin(q)\n",
    "\n",
    "def H(q, p):\n",
    "    \"\"\"Hamiltoniana H = p^2/2 - cos(q).\"\"\"\n",
    "    return 0.5*p*p - math.cos(q)\n",
    "\n",
    "def classify_energy(q, p, eps=1e-9):\n",
    "    \"\"\"Classifica o regime pela energia: libration (-1 < H < 1) ou rotation (H > 1).\"\"\"\n",
    "    E = H(q, p)\n",
    "    if E > 1 + eps:\n",
    "        return \"rotation\", E\n",
    "    elif E < 1 - eps:\n",
    "        return \"libration\", E\n",
    "    return \"separatrix\", E\n"
   ]
  },
  {
   "cell_type": "markdown",
   "id": "57d67dd0",
   "metadata": {},
   "source": [
    "## 3) **Um passo** de Euler simplético (Euler–Cromer)\n",
    "\n",
    "Seguindo a ordem **q-avança com \\(p^{(n)}\\)** e **p-avança com \\(q^{(n+1)}\\)**,\n",
    "preservando o caráter simplético do mapa numérico.\n"
   ]
  },
  {
   "cell_type": "code",
   "execution_count": null,
   "id": "f453d2f7",
   "metadata": {},
   "outputs": [],
   "source": [
    "def euler_symplectic_step(q, p, dt):\n",
    "    # 1) avança posição usando p^n\n",
    "    q_next = q + dt * dq_dt(q, p)  # = q + dt * p\n",
    "    # 2) avança momento usando q^{n+1}\n",
    "    p_next = p - dt * dU_dq(q_next)  # = p - dt * sin(q^{n+1})\n",
    "    return q_next, p_next\n"
   ]
  },
  {
   "cell_type": "markdown",
   "id": "beebd436",
   "metadata": {},
   "source": [
    "## 4) Integrador no intervalo \\([0,T]\\)\n",
    "\n",
    "Armazenamos \\((t,q,p,E)\\) para traçar os gráficos de \\(q(t)\\), \\(p(t)\\) e \\(E(t)\\).\n"
   ]
  },
  {
   "cell_type": "code",
   "execution_count": null,
   "id": "1cd03f69",
   "metadata": {},
   "outputs": [],
   "source": [
    "def integrar_symplectic(q0, p0, dt, T):\n",
    "    n_steps = int(np.ceil(T/dt))\n",
    "    t = np.empty(n_steps+1)\n",
    "    q = np.empty(n_steps+1)\n",
    "    p = np.empty(n_steps+1)\n",
    "    E = np.empty(n_steps+1)\n",
    "    # estado inicial\n",
    "    t[0] = 0.0\n",
    "    q[0] = q0\n",
    "    p[0] = p0\n",
    "    E[0] = H(q0, p0)\n",
    "    # iteração temporal\n",
    "    for n in range(n_steps):\n",
    "        q[n+1], p[n+1] = euler_symplectic_step(q[n], p[n], dt)\n",
    "        t[n+1] = (n+1)*dt\n",
    "        E[n+1] = H(q[n+1], p[n+1])\n",
    "    return t, q, p, E\n"
   ]
  },
  {
   "cell_type": "markdown",
   "id": "57296152",
   "metadata": {},
   "source": [
    "## 5) Funções de plotagem (uma figura por gráfico)\n",
    "\n",
    "Cada gráfico recebe as **três curvas** (um para cada \\(\\Delta t\\)), com *labels* na legenda.\n"
   ]
  },
  {
   "cell_type": "code",
   "execution_count": null,
   "id": "9a323df7",
   "metadata": {},
   "outputs": [],
   "source": [
    "def plot_series_same_axes(series_list, xlab, ylab, title):\n",
    "    \"\"\"series_list: lista de tuplas (x, y, label).\"\"\"\n",
    "    plt.figure()\n",
    "    for x, y, label in series_list:\n",
    "        plt.plot(x, y, label=label, lw=1.2)\n",
    "    plt.xlabel(xlab)\n",
    "    plt.ylabel(ylab)\n",
    "    plt.title(title)\n",
    "    plt.legend()\n",
    "    plt.show()\n"
   ]
  },
  {
   "cell_type": "markdown",
   "id": "543f1dc1",
   "metadata": {},
   "source": [
    "## 6) Execução de cenários (librar e rotacionar)\n",
    "\n",
    "- **Librar (oscilação):** escolher \\((q_0,p_0)\\) com \\(H<1\\).  \n",
    "  Ex.: \\(q_0=0.5,\\ p_0=0\\Rightarrow H\\approx -0.8776\\).\n",
    "\n",
    "- **Rotacionar:** escolher \\((q_0,p_0)\\) com \\(H>1\\).  \n",
    "  Ex.: \\(q_0=0,\\ p_0=2.2\\Rightarrow H=2.2^2/2-1=1.42>1\\).\n"
   ]
  },
  {
   "cell_type": "code",
   "execution_count": null,
   "id": "c33c069f",
   "metadata": {},
   "outputs": [],
   "source": [
    "# parâmetros comuns\n",
    "dt_list = [1e-1, 1e-2, 1e-3]\n",
    "T = 30.0  # tempo total de simulação (ajuste se desejar)\n",
    "\n",
    "# condições iniciais\n",
    "libration_ic = dict(q0=0.5, p0=0.0, nome=\"Librar (q0=0.5, p0=0.0)\")\n",
    "rotation_ic  = dict(q0=0.0, p0=2.2, nome=\"Rotacionar (q0=0.0, p0=2.2)\")\n",
    "\n",
    "def rodar_cenario(ic, dt_vals=dt_list, T_sim=T):\n",
    "    modo, E0 = classify_energy(ic['q0'], ic['p0'])\n",
    "    print(f\"Cenário: {ic['nome']} — regime: {modo},  E0={E0:.6f}\")\n",
    "    resultados = {}\n",
    "    for dt in dt_vals:\n",
    "        t, q, p, E = integrar_symplectic(ic['q0'], ic['p0'], dt, T_sim)\n",
    "        resultados[dt] = (t, q, p, E)\n",
    "    return resultados\n",
    "\n",
    "def graficos_item_4_3(nome, resultados):\n",
    "    # q(t) x t\n",
    "    series_q = [(t, q, f\"dt={dt:g}\") for dt, (t,q,p,E) in resultados.items()]\n",
    "    plot_series_same_axes(series_q, \"t\", \"q(t)\", f\"4.3 — {nome}: q(t) para 3 passos dt\")\n",
    "    # p(t) x t\n",
    "    series_p = [(t, p, f\"dt={dt:g}\") for dt, (t,q,p,E) in resultados.items()]\n",
    "    plot_series_same_axes(series_p, \"t\", \"p(t)\", f\"4.3 — {nome}: p(t) para 3 passos dt\")\n",
    "\n",
    "def graficos_item_4_4(nome, resultados):\n",
    "    # E(t) x t\n",
    "    series_E = [(t, E, f\"dt={dt:g}\") for dt, (t,q,p,E) in resultados.items()]\n",
    "    plot_series_same_axes(series_E, \"t\", \"E(t)\", f\"4.4 — {nome}: Energia para 3 passos dt\")\n"
   ]
  },
  {
   "cell_type": "markdown",
   "id": "453b11ca",
   "metadata": {},
   "source": [
    "## 7) Rodando **librar** e **rotacionar** e gerando os gráficos solicitados\n",
    "\n",
    "Cada item abaixo produz **dois gráficos** para 4.3 \\([q(t),p(t)]\\) e **um gráfico** para 4.4 \\([E(t)]\\), cada um com as três curvas de \\(\\Delta t\\).\n"
   ]
  },
  {
   "cell_type": "code",
   "execution_count": null,
   "id": "7784e241",
   "metadata": {},
   "outputs": [],
   "source": [
    "# --- Librar ---\n",
    "res_lib = rodar_cenario(libration_ic)\n",
    "graficos_item_4_3(\"Librar\", res_lib)\n",
    "graficos_item_4_4(\"Librar\", res_lib)\n",
    "\n",
    "# --- Rotacionar ---\n",
    "res_rot = rodar_cenario(rotation_ic)\n",
    "graficos_item_4_3(\"Rotacionar\", res_rot)\n",
    "graficos_item_4_4(\"Rotacionar\", res_rot)\n"
   ]
  },
  {
   "cell_type": "markdown",
   "id": "a3cc5b41",
   "metadata": {},
   "source": [
    "---\n",
    "## 8) Notas para interpretação dos resultados (para o relatório)\n",
    "\n",
    "- Com o **Euler simplético**, a energia **não é exatamente constante**, mas tende a ficar **quase-conservada**,\n",
    "  oscilando em torno de um valor médio sem *drift* sistemático para \\(\\Delta t\\) suficientemente pequeno.\n",
    "- Para a condição **librar**, \\(q(t)\\) é aproximadamente periódico e \\(p(t)\\) alterna sinal.\n",
    "- Para a condição **rotacionar**, \\(q(t)\\) cresce (ou decresce) monotonicamente no tempo (o pêndulo dá voltas) e \\(p(t)\\)\n",
    "  oscila em torno de valores diferentes de zero.  \n",
    "- Reduzindo \\(\\Delta t\\) (de \\(10^{-1}\\) para \\(10^{-3}\\)), as curvas convergem e as oscilações de \\(E(t)\\) diminuem.\n",
    "- Se desejar, você pode **embrulhar o ângulo** com `q_wrapped = ( (q+pi) % (2*pi) ) - pi` apenas para visualização;\n",
    "  aqui mantivemos \\(q(t)\\) cru, como solicitado.\n",
    "\n",
    "> Dica: para anexar ao trabalho, salve cada figura com `plt.savefig(\\\"nome.png\\\", dpi=200, bbox_inches=\\\"tight\\\")` logo antes de `plt.show()`.\n"
   ]
  }
 ],
 "metadata": {},
 "nbformat": 4,
 "nbformat_minor": 5
}
