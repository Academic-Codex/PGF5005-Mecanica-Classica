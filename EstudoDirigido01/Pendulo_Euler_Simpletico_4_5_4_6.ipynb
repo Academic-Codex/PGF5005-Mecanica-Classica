{
 "cells": [
  {
   "cell_type": "markdown",
   "id": "df9ceeb0",
   "metadata": {},
   "source": [
    "# PGF5005 — Mecânica Clássica · Itens 4.5 e 4.6  \n",
    "**Pêndulo simples com *Euler simplético* (Euler–Cromer)**\n",
    "\n",
    "Este caderno complementa os itens 4.3–4.4, agora focando em:\n",
    "\n",
    "- **4.5**: Construir os **gráficos \\(p(t)\\times q(t)\\)** (diagramas de fase) para as **duas condições iniciais**\n",
    "  (librar e rotacionar), colocando no **mesmo gráfico** as **três curvas** de \\(\\Delta t\\in\\{10^{-1},10^{-2},10^{-3}\\}\\).\n",
    "- **4.6**: Escrever explicitamente as fórmulas de \\(q^{(n+1)}\\) e \\(p^{(n+1)}\\) do **Euler simplético** para o pêndulo simples,\n",
    "  conforme as Equações (9) do texto.\n"
   ]
  },
  {
   "cell_type": "markdown",
   "id": "39f171f4",
   "metadata": {},
   "source": [
    "## 1) Modelo, energia e integrador (Euler simplético)"
   ]
  },
  {
   "cell_type": "code",
   "execution_count": null,
   "id": "40932e76",
   "metadata": {},
   "outputs": [],
   "source": [
    "import math\n",
    "import numpy as np\n",
    "import matplotlib.pyplot as plt\n",
    "\n",
    "def dU_dq(q):  # U(q) = -cos q\n",
    "    return math.sin(q)\n",
    "\n",
    "def H(q, p):\n",
    "    return 0.5*p*p - math.cos(q)\n",
    "\n",
    "def euler_symplectic_step(q, p, dt):\n",
    "    # q^{n+1} = q^n + dt * p^n\n",
    "    q_next = q + dt * p\n",
    "    # p^{n+1} = p^n - dt * sin(q^{n+1})\n",
    "    p_next = p - dt * dU_dq(q_next)\n",
    "    return q_next, p_next\n",
    "\n",
    "def integrar_symplectic(q0, p0, dt, T):\n",
    "    n = int(np.ceil(T/dt))\n",
    "    q = np.empty(n+1); p = np.empty(n+1); t = np.empty(n+1); E = np.empty(n+1)\n",
    "    q[0]=q0; p[0]=p0; t[0]=0.0; E[0]=H(q0,p0)\n",
    "    for k in range(n):\n",
    "        q[k+1], p[k+1] = euler_symplectic_step(q[k], p[k], dt)\n",
    "        t[k+1] = (k+1)*dt\n",
    "        E[k+1] = H(q[k+1], p[k+1])\n",
    "    return t,q,p,E\n"
   ]
  },
  {
   "cell_type": "markdown",
   "id": "506a5b32",
   "metadata": {},
   "source": [
    "## 2) Utilitário de fase p × q (três curvas no mesmo gráfico)"
   ]
  },
  {
   "cell_type": "code",
   "execution_count": null,
   "id": "0072dd82",
   "metadata": {},
   "outputs": [],
   "source": [
    "def plot_fase_multi(curvas, titulo):\n",
    "    \"\"\"curvas: lista de tuplas (q, p, label)\"\"\"\n",
    "    plt.figure()\n",
    "    for q, p, label in curvas:\n",
    "        plt.plot(q, p, label=label, lw=1.2)\n",
    "    plt.xlabel('q(t)')\n",
    "    plt.ylabel('p(t)')\n",
    "    plt.title(titulo)\n",
    "    plt.legend()\n",
    "    plt.show()\n"
   ]
  },
  {
   "cell_type": "markdown",
   "id": "dacfb3a8",
   "metadata": {},
   "source": [
    "## 3) Cenários e execução (Item 4.5)\n",
    "\n",
    "Usamos as mesmas condições dos itens anteriores:  \n",
    "- **Librar:** \\(q_0=0.5,\\ p_0=0\\) (energia \\(H<1\\))  \n",
    "- **Rotacionar:** \\(q_0=0,\\ p_0=2.2\\) (energia \\(H>1\\))\n",
    "\n",
    "Passos de tempo: \\(\\Delta t = 10^{-1},10^{-2},10^{-3}\\)."
   ]
  },
  {
   "cell_type": "code",
   "execution_count": null,
   "id": "b6c74cd8",
   "metadata": {},
   "outputs": [],
   "source": [
    "dt_list = [1e-1, 1e-2, 1e-3]\n",
    "T = 30.0\n",
    "\n",
    "def curvas_fase(q0,p0, dt_vals=dt_list, T_sim=T):\n",
    "    out = []\n",
    "    for dt in dt_vals:\n",
    "        t,q,p,E = integrar_symplectic(q0,p0,dt,T_sim)\n",
    "        out.append((q,p,f\"dt={dt:g}\"))\n",
    "    return out\n",
    "\n",
    "# Librar\n",
    "curvas_lib = curvas_fase(0.5, 0.0)\n",
    "plot_fase_multi(curvas_lib, \"4.5 — Fase p×q (Librar): 3 passos dt\" )\n",
    "\n",
    "# Rotacionar\n",
    "curvas_rot = curvas_fase(0.0, 2.2)\n",
    "plot_fase_multi(curvas_rot, \"4.5 — Fase p×q (Rotacionar): 3 passos dt\" )\n"
   ]
  },
  {
   "cell_type": "markdown",
   "id": "0a9b68e0",
   "metadata": {},
   "source": [
    "## 4) Item 4.6 — fórmulas explícitas do **Euler simplético** (Eq. 9)\n",
    "\n",
    "Para o pêndulo simples adimensional com \\(H(q,p)=\\tfrac{p^2}{2}-\\cos q\\) e \\(H=K(p)+U(q)\\) separável:\n",
    "\n",
    "\\[\n",
    "\\frac{\\partial H}{\\partial p}=p,\\qquad \\frac{\\partial H}{\\partial q}=\\sin q.\n",
    "\\]\n",
    "\n",
    "O **método de Euler simplético** (Euler–Cromer), conforme as Equações (9) do texto, fica:\n",
    "\n",
    "\\[\n",
    "\\boxed{\n",
    "\\begin{aligned}\n",
    "q^{(n+1)} &= q^{(n)} + \\Delta t\\,\\frac{\\partial H}{\\partial p}\\Big|_{p^{(n)}} \n",
    "          = q^{(n)} + \\Delta t\\,p^{(n)}, \\\\[4pt]\n",
    "p^{(n+1)} &= p^{(n)} - \\Delta t\\,\\frac{\\partial H}{\\partial q}\\Big|_{q^{(n+1)}} \n",
    "          = p^{(n)} - \\Delta t\\,\\sin\\!\\big(q^{(n+1)}\\big).\n",
    "\\end{aligned}}\n",
    "\\]\n",
    "\n",
    "> Observação: a ordem é crucial para o caráter simplético: primeiro atualizamos \\(q\\) com \\(p^{(n)}\\),\n",
    "> depois atualizamos \\(p\\) usando \\(q^{(n+1)}\\).\n"
   ]
  }
 ],
 "metadata": {},
 "nbformat": 4,
 "nbformat_minor": 5
}
