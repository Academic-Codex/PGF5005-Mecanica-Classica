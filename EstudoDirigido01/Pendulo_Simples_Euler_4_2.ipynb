{
 "cells": [
  {
   "cell_type": "markdown",
   "id": "81605f6f",
   "metadata": {},
   "source": [
    "# PGF5005 — Mecânica Clássica · Item 4.2  \n",
    "**Método de Euler aplicado ao pêndulo simples**\n",
    "\n",
    "Neste caderno implementamos, o método de **Euler ** para\n",
    "resolver as equações de Hamilton do pêndulo simples adimensional,\n",
    "baseado nas equações e notação do enunciado.\n",
    "\n",
    "Hamiltoniana adimensional:  \n",
    "$$\n",
    "H(q,p) = \\frac{p^2}{2} - \\cos q.\n",
    "$$\n",
    "\n",
    "Equações de Hamilton:  \n",
    "$$\n",
    "\\dot q = \\frac{\\partial H}{\\partial p} = p,\\qquad\n",
    "\\dot p = -\\,\\frac{\\partial H}{\\partial q} = -\\sin q.\n",
    "$$\n",
    "\n",
    "**Método de Euler ** — conforme a Eq. (4) do texto:  \n",
    "$$\n",
    "\\begin{aligned}\n",
    "q^{(n+1)} &= q^{(n)} + \\Delta t\\,\\frac{\\partial H}{\\partial p}\\big|_{(q^{(n)},p^{(n)})}\n",
    "           = q^{(n)} + \\Delta t\\,p^{(n)},\\\\\n",
    "p^{(n+1)} &= p^{(n)} - \\Delta t\\,\\frac{\\partial H}{\\partial q}\\big|_{(q^{(n)},p^{(n)})}\n",
    "           = p^{(n)} - \\Delta t\\,\\sin\\!\\big(q^{(n)}\\big).\n",
    "\\end{aligned}\n",
    "$$\n",
    "\n",
    "> **Observação:** o item 4.2 pede *Euler convencional*. O item 2.2 do texto discute o\n",
    "> **Euler simplético** (Euler–Cromer), que será usado depois (item 4.3). Aqui focamos\n",
    "> apenas no Euler convencional para cumprir 4.2.\n"
   ]
  },
  {
   "cell_type": "markdown",
   "id": "8a4076f5",
   "metadata": {},
   "source": [
    "## Imports"
   ]
  },
  {
   "cell_type": "code",
   "execution_count": 1,
   "id": "a0f19ed8",
   "metadata": {},
   "outputs": [
    {
     "ename": "ModuleNotFoundError",
     "evalue": "No module named 'numpy'",
     "output_type": "error",
     "traceback": [
      "\u001b[31m---------------------------------------------------------------------------\u001b[39m",
      "\u001b[31mModuleNotFoundError\u001b[39m                       Traceback (most recent call last)",
      "\u001b[36mCell\u001b[39m\u001b[36m \u001b[39m\u001b[32mIn[1]\u001b[39m\u001b[32m, line 3\u001b[39m\n\u001b[32m      1\u001b[39m \u001b[38;5;66;03m# Requisitos: numpy e matplotlib (sem seaborn)\u001b[39;00m\n\u001b[32m      2\u001b[39m \u001b[38;5;28;01mimport\u001b[39;00m\u001b[38;5;250m \u001b[39m\u001b[34;01mmath\u001b[39;00m\n\u001b[32m----> \u001b[39m\u001b[32m3\u001b[39m \u001b[38;5;28;01mimport\u001b[39;00m\u001b[38;5;250m \u001b[39m\u001b[34;01mnumpy\u001b[39;00m\u001b[38;5;250m \u001b[39m\u001b[38;5;28;01mas\u001b[39;00m\u001b[38;5;250m \u001b[39m\u001b[34;01mnp\u001b[39;00m\n\u001b[32m      4\u001b[39m \u001b[38;5;28;01mimport\u001b[39;00m\u001b[38;5;250m \u001b[39m\u001b[34;01mmatplotlib\u001b[39;00m\u001b[34;01m.\u001b[39;00m\u001b[34;01mpyplot\u001b[39;00m\u001b[38;5;250m \u001b[39m\u001b[38;5;28;01mas\u001b[39;00m\u001b[38;5;250m \u001b[39m\u001b[34;01mplt\u001b[39;00m\n",
      "\u001b[31mModuleNotFoundError\u001b[39m: No module named 'numpy'"
     ]
    }
   ],
   "source": [
    "# Requisitos: numpy e matplotlib (sem seaborn)\n",
    "import math\n",
    "import numpy as np\n",
    "import matplotlib.pyplot as plt\n"
   ]
  },
  {
   "cell_type": "code",
   "execution_count": 10,
   "id": "91e16144",
   "metadata": {},
   "outputs": [
    {
     "name": "stdout",
     "output_type": "stream",
     "text": [
      "zsh:1: command not found: pip\n"
     ]
    }
   ],
   "source": [
    "!pip install matplotlib"
   ]
  },
  {
   "cell_type": "markdown",
   "id": "a19f37ea",
   "metadata": {},
   "source": [
    "## Campos de derivadas e energia\n",
    "\n",
    "Codificamos \\(\\dot q\\) e \\(\\dot p\\) a partir da Hamiltoniana, e a energia\n",
    "\\(H(q,p)\\) para checagens de consistência (embora o método de Euler **não**\n",
    "conserve energia)."
   ]
  },
  {
   "cell_type": "code",
   "execution_count": null,
   "id": "3c8c657f",
   "metadata": {},
   "outputs": [],
   "source": [
    "def dq_dt(q, p):\n",
    "    return p\n",
    "\n",
    "def dp_dt(q, p):\n",
    "    return -math.sin(q)\n",
    "\n",
    "def H(q, p):\n",
    "    return 0.5*p*p - math.cos(q)\n"
   ]
  },
  {
   "cell_type": "markdown",
   "id": "4576b15e",
   "metadata": {},
   "source": [
    "## Um passo de Euler (convencional)\n",
    "\n",
    "Implementa exatamente as fórmulas acima para avançar um passo \\(\\Delta t\\)."
   ]
  },
  {
   "cell_type": "code",
   "execution_count": null,
   "id": "956de953",
   "metadata": {},
   "outputs": [],
   "source": [
    "def euler_step(q, p, dt):\n",
    "    q_next = q + dt * dq_dt(q, p)\n",
    "    p_next = p - dt * (math.sin(q))  # equivale a p + dt * dp_dt(q,p)\n",
    "    return q_next, p_next\n"
   ]
  },
  {
   "cell_type": "markdown",
   "id": "bf3bdea7",
   "metadata": {},
   "source": [
    "## Integração no intervalo \\([0, T]\\)\n",
    "\n",
    "Guardamos o histórico de \\((t,q,p,H)\\) para facilitar gráficos e diagnósticos."
   ]
  },
  {
   "cell_type": "code",
   "execution_count": null,
   "id": "8835884e",
   "metadata": {},
   "outputs": [],
   "source": [
    "def integrar_euler(q0, p0, dt, T):\n",
    "    n_steps = int(np.ceil(T/dt))\n",
    "    t = np.empty(n_steps+1)\n",
    "    q = np.empty(n_steps+1)\n",
    "    p = np.empty(n_steps+1)\n",
    "    E = np.empty(n_steps+1)\n",
    "    # estado inicial\n",
    "    t[0] = 0.0\n",
    "    q[0] = q0\n",
    "    p[0] = p0\n",
    "    E[0] = H(q0, p0)\n",
    "    # laço temporal\n",
    "    for n in range(n_steps):\n",
    "        qn, pn = q[n], p[n]\n",
    "        q[n+1], p[n+1] = euler_step(qn, pn, dt)\n",
    "        t[n+1] = (n+1)*dt\n",
    "        E[n+1] = H(q[n+1], p[n+1])\n",
    "    return t, q, p, E\n"
   ]
  },
  {
   "cell_type": "markdown",
   "id": "3aed5b3e",
   "metadata": {},
   "source": [
    "## Exemplo mínimo (para validar a implementação)\n",
    "\n",
    "Rodamos uma simulação curta apenas para verificar a execução.\n",
    "> Você pode ajustar as condições iniciais (\\(q_0, p_0\\)), o passo \\(\\Delta t\\) e o tempo total \\(T\\)."
   ]
  },
  {
   "cell_type": "code",
   "execution_count": null,
   "id": "11636ded",
   "metadata": {},
   "outputs": [],
   "source": [
    "# Condições iniciais e parâmetros\n",
    "q0 = 0.5   # rad\n",
    "p0 = 0.0   # adimensional\n",
    "dt = 1e-2  # passo\n",
    "T  = 5.0   # tempo total\n",
    "\n",
    "t, q, p, E = integrar_euler(q0, p0, dt, T)\n",
    "\n",
    "# Gráfico 1: q(t)\n",
    "plt.figure()\n",
    "plt.plot(t, q)\n",
    "plt.xlabel(\"t\")\n",
    "plt.ylabel(\"q(t)\")\n",
    "plt.title(\"Pendulo (Euler conv.) — q(t)\")\n",
    "plt.show()\n",
    "\n",
    "# Gráfico 2: p(t)\n",
    "plt.figure()\n",
    "plt.plot(t, p)\n",
    "plt.xlabel(\"t\")\n",
    "plt.ylabel(\"p(t)\")\n",
    "plt.title(\"Pendulo (Euler conv.) — p(t)\")\n",
    "plt.show()\n",
    "\n",
    "# Gráfico 3: Energia (não conservada no Euler conv.)\n",
    "plt.figure()\n",
    "plt.plot(t, E)\n",
    "plt.xlabel(\"t\")\n",
    "plt.ylabel(\"H(q,p)\")\n",
    "plt.title(\"Energia ao longo do tempo (Euler conv.)\")\n",
    "plt.show()\n"
   ]
  },
  {
   "cell_type": "markdown",
   "id": "f28e3697",
   "metadata": {},
   "source": [
    "---\n",
    "### Preparando para o item 4.3 (adiantamento rápido)\n",
    "\n",
    "Para o próximo item, será útil ter uma função de **fase \\((q,p)\\)** e varrer\n",
    "diferentes \\(\\Delta t\\) e condições iniciais (librar/rotacionar).\n",
    "Deixamos abaixo uma célula de utilidade para o diagrama de fase.\n"
   ]
  },
  {
   "cell_type": "code",
   "execution_count": null,
   "id": "91d8eb19",
   "metadata": {},
   "outputs": [],
   "source": [
    "def plot_fase(t, q, p, titulo=\"Diagrama de fase (q × p)\"):\n",
    "    plt.figure()\n",
    "    plt.plot(q, p, lw=1.0)\n",
    "    plt.xlabel(\"q\")\n",
    "    plt.ylabel(\"p\")\n",
    "    plt.title(titulo)\n",
    "    plt.show()\n",
    "\n",
    "# Exemplo de uso\n",
    "plot_fase(t, q, p, \"Fase — Euler conv.\")"
   ]
  }
 ],
 "metadata": {
  "kernelspec": {
   "display_name": ".venv",
   "language": "python",
   "name": "python3"
  },
  "language_info": {
   "codemirror_mode": {
    "name": "ipython",
    "version": 3
   },
   "file_extension": ".py",
   "mimetype": "text/x-python",
   "name": "python",
   "nbconvert_exporter": "python",
   "pygments_lexer": "ipython3",
   "version": "3.13.5"
  }
 },
 "nbformat": 4,
 "nbformat_minor": 5
}
