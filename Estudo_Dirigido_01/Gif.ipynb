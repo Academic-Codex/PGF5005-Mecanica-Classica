{
 "cells": [
  {
   "cell_type": "code",
   "execution_count": 3,
   "id": "a273fee4",
   "metadata": {},
   "outputs": [
    {
     "name": "stdout",
     "output_type": "stream",
     "text": [
      "[]\n"
     ]
    }
   ],
   "source": [
    "from PIL import Image\n",
    "import glob\n",
    "\n",
    "# Caminho da pasta com as imagens (pode ajustar extensão: .png, .jpg, etc.)\n",
    "imagens = sorted(glob.glob(\"imagens/*.png\"))\n",
    "print(imagens)\n"
   ]
  },
  {
   "cell_type": "code",
   "execution_count": null,
   "id": "068d22e1",
   "metadata": {},
   "outputs": [],
   "source": [
    "\n",
    "# Carregar todas as imagens\n",
    "quadros = [Image.open(img) for img in imagens]\n",
    "\n",
    "# Criar GIF\n",
    "quadros[0].save(\"animacao.gif\",\n",
    "                save_all=True,\n",
    "                append_images=quadros[1:],\n",
    "                duration=300,   # tempo de cada frame em milissegundos\n",
    "                loop=0)         # 0 = loop infinito"
   ]
  }
 ],
 "metadata": {
  "kernelspec": {
   "display_name": ".venv",
   "language": "python",
   "name": "python3"
  },
  "language_info": {
   "codemirror_mode": {
    "name": "ipython",
    "version": 3
   },
   "file_extension": ".py",
   "mimetype": "text/x-python",
   "name": "python",
   "nbconvert_exporter": "python",
   "pygments_lexer": "ipython3",
   "version": "3.13.5"
  }
 },
 "nbformat": 4,
 "nbformat_minor": 5
}
